{
 "cells": [
  {
   "cell_type": "code",
   "execution_count": null,
   "metadata": {},
   "outputs": [],
   "source": [
    "import pandas as pd\n",
    "\n",
    "def main():\n",
    "    \n",
    "    # Parse database file as df\n",
    "    df = pd.read_csv(\"archive/nba.csv\")\n",
    "    \n",
    "    # Greet User\n",
    "    print(\"Hello, Welcome to the Functional NBA Player Database!\")\n",
    "    \n",
    "    # Ask the user: \"Which function would you like to run?\" There are 4 options. \n",
    "    choice = int(input(\"Enter a number to execute an unique function; 1: Find a Player. 2: Get stats per position. 3: Retrieve a Player's stats. 4: Get Team Average: \"))\n",
    "    \n",
    "    # Assume valid input\n",
    "    # Depending on input, pass dataframe as parameter into chosen function\n",
    "    if (choice == 1):\n",
    "        find_a_player(df)\n",
    "    if (choice == 2):\n",
    "        get_player_position_stat(df)\n",
    "    if (choice == 3):\n",
    "        retrieve_player_stat(df)\n",
    "    if (choice == 4):\n",
    "        get_team_avg(df)\n",
    "    \n",
    "    \n",
    "main()"
   ]
  }
 ],
 "metadata": {
  "kernelspec": {
   "display_name": "Python 3",
   "language": "python",
   "name": "python3"
  },
  "language_info": {
   "codemirror_mode": {
    "name": "ipython",
    "version": 3
   },
   "file_extension": ".py",
   "mimetype": "text/x-python",
   "name": "python",
   "nbconvert_exporter": "python",
   "pygments_lexer": "ipython3",
   "version": "3.8.5"
  }
 },
 "nbformat": 4,
 "nbformat_minor": 4
}
