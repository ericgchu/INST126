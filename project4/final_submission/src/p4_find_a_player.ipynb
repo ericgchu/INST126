{
 "cells": [
  {
   "cell_type": "code",
   "execution_count": 127,
   "metadata": {},
   "outputs": [],
   "source": [
    "def find_a_player(df):\n",
    "    \n",
    "    # Greets user\n",
    "    print(\"Welcome to Find A NBA Player!!!! This function will help you figure out which NBA player/s match your specification!!\")\n",
    "        \n",
    "    # Take user input asking if he/she wants to do 1) a standard player search or 2) custom text input search \n",
    "    choice = int(input(\"Press 1: Thorough NBA Player Search. Press 2: Custom text input nba player find\"))\n",
    "                \n",
    "    # In depth nba player find\n",
    "    if (choice == 1):\n",
    "            \n",
    "        # Greet\n",
    "        print(\"Welcome to Thorough NBA Player Search. You will be prompted with reqs to find your NBA player.\")\n",
    "            \n",
    "        # 1) Ask for player position\n",
    "        position = input(\"Enter player position (PG: Point Guard, PF: Power Forward, SG: Shooting Guard, SF: Small Forward, C: Center, PF: Point Forward): \")\n",
    "            \n",
    "        # 2) Ask for minimum minutes played \n",
    "        minutes = int(input(\"Enter minimum minutes played per game(as an int): \"))\n",
    "            \n",
    "        # 3) Ask for minimum player efficiency rating\n",
    "        rating = float(input(\"Enter minimum player efficiency rating (as a float): \"))\n",
    "\n",
    "        # 4) Ask for minimum true shooting percentage\n",
    "        shooting = float(input(\"Enter minimum true shooting percentage (as a float [0-1]): \"))\n",
    "            \n",
    "        # 5) Ask for minimum 3 Point attempt percentage\n",
    "        three_point = float(input(\"Enter minimum 3 Point attempt percentage (as a float [0-1]): \"))\n",
    "        \n",
    "    \n",
    "        compute_players(df, position, minutes, rating, shooting, three_point)\n",
    "        \n",
    "        \n",
    "    # textualized nba player find\n",
    "    if (choice == 2):\n",
    "            \n",
    "        # Greet\n",
    "        print(\"Welcome to Custom NBA Player Search. You will input specifications to find your NBA player.\")\n",
    "        print(\"Follow the example to input specifications.\\n'Player Position: XX : Minutes Played Per Game: XX : Player Efficiency Rating: XX : True Shooting %: XX : 3-Point Attempt Rate: XX'\\n\")    \n",
    "        \n",
    "        # Ask for command\n",
    "        command = input(\"Enter Here: \")\n",
    "        command_arr = command.split(\":\")\n",
    "        \n",
    "        compute_players(df, command_arr[1], int(command_arr[3]), float(command_arr[5]), float(command_arr[7]), float(command_arr[9]))"
   ]
  }
 ],
 "metadata": {
  "kernelspec": {
   "display_name": "Python 3",
   "language": "python",
   "name": "python3"
  },
  "language_info": {
   "codemirror_mode": {
    "name": "ipython",
    "version": 3
   },
   "file_extension": ".py",
   "mimetype": "text/x-python",
   "name": "python",
   "nbconvert_exporter": "python",
   "pygments_lexer": "ipython3",
   "version": "3.8.5"
  }
 },
 "nbformat": 4,
 "nbformat_minor": 4
}
