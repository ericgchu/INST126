{
 "cells": [
  {
   "cell_type": "code",
   "execution_count": 14,
   "metadata": {
    "scrolled": true
   },
   "outputs": [
    {
     "name": "stdout",
     "output_type": "stream",
     "text": [
      "Hello, Welcome to the Functional NBA Player Database!\n",
      "Enter a number to execute an unique function; 1: Find a Player. 2: Get stats per position. 3: Retrieve a Player's stats. 4: Get Team Average: 3\n",
      "Welcome to Retrieve a Player Statistic!!!! This function will help you find a certain player's desired statistic!!\n",
      "What player? (First name Last name)Steven Adams\n",
      "Which statistic? *Please input value within parantheses*  games played(G), minutes played(MP), player efficiency rating(PER), true shooting_percentage(TS%), 3_point_attempt_rate(3PAr), free throw rate(FTr), offensive rebound percentage(ORB%), defensive rebound percentage(DRB%), total rebound percentage(TRB%), assist_percentage(AST%), block percentage (BLK%), steal percentage(STL%), and turnover percentage(TOV%)TS%\n",
      "Your player's statistic is:\n",
      "0.63\n"
     ]
    }
   ],
   "source": [
    "import pandas as pd\n",
    "\n",
    "def main():\n",
    "    \n",
    "    # Parse database file as df\n",
    "    df = pd.read_csv(\"/Users/francis/Desktop/nba.csv\")\n",
    "    \n",
    "    # Greet User\n",
    "    print(\"Hello, Welcome to the Functional NBA Player Database!\")\n",
    "    \n",
    "    # Ask the user: \"Which function would you like to run?\" There are 4 options. \n",
    "    choice = int(input(\"Enter a number to execute an unique function; 1: Find a Player. 2: Get stats per position. 3: Retrieve a Player's stats. 4: Get Team Average: \"))\n",
    "    \n",
    "    # Assume valid input\n",
    "    # Depending on input, pass dataframe as parameter into chosen function\n",
    "    if (choice == 1):\n",
    "        find_a_player(df)\n",
    "    if (choice == 2):\n",
    "        get_player_position_stat(df)\n",
    "    if (choice == 3):\n",
    "        retrieve_player_stat(df)\n",
    "    if (choice == 4):\n",
    "        get_team_avg(df)\n",
    "\n",
    "def retrieve_player_stat(df):\n",
    "    print(\"Welcome to Retrieve a Player Statistic!!!! This function will help you find a certain player's desired statistic!!\")\n",
    "    playername = input(\"What player? (First name Last name)\")\n",
    "    query = df[df['Player'].str.match(playername)]\n",
    "    query = query.iloc[0]\n",
    "    if len(query) > 0:\n",
    "        statistic = input(\"Which statistic? *Please input value within parantheses*  games played(G), minutes played(MP), player efficiency rating(PER), true shooting_percentage(TS%), 3_point_attempt_rate(3PAr), free throw rate(FTr), offensive rebound percentage(ORB%), defensive rebound percentage(DRB%), total rebound percentage(TRB%), assist_percentage(AST%), block percentage (BLK%), steal percentage(STL%), and turnover percentage(TOV%)\")\n",
    "        result = query[statistic]\n",
    "        print(\"Your player's statistic is:\")\n",
    "        print(result)\n",
    "    else:\n",
    "        print(\"Invalid player name\")\n",
    "        \n",
    "main()\n"
   ]
  },
  {
   "cell_type": "code",
   "execution_count": null,
   "metadata": {},
   "outputs": [],
   "source": []
  },
  {
   "cell_type": "code",
   "execution_count": null,
   "metadata": {},
   "outputs": [],
   "source": []
  }
 ],
 "metadata": {
  "kernelspec": {
   "display_name": "Python 3",
   "language": "python",
   "name": "python3"
  },
  "language_info": {
   "codemirror_mode": {
    "name": "ipython",
    "version": 3
   },
   "file_extension": ".py",
   "mimetype": "text/x-python",
   "name": "python",
   "nbconvert_exporter": "python",
   "pygments_lexer": "ipython3",
   "version": "3.8.3"
  }
 },
 "nbformat": 4,
 "nbformat_minor": 4
}
