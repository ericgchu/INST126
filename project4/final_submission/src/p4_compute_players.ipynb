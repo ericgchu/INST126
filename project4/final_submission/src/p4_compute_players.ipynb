{
 "cells": [
  {
   "cell_type": "code",
   "execution_count": 1,
   "metadata": {},
   "outputs": [],
   "source": [
    "def compute_players(df, position, minutes, rating, shooting, three_point):\n",
    "    \n",
    "    # Manipulate dataframes such that we meet requested params \n",
    "    after_position = df.iloc[list(df[\"Pos\"] == position.strip())]\n",
    "\n",
    "    after_minutes = after_position.iloc[list(after_position[\"MP\"] >= minutes)]\n",
    "\n",
    "    after_rating = after_minutes.iloc[list(after_minutes[\"PER\"] >= rating)]\n",
    "    \n",
    "    after_shooting = after_rating.iloc[list(after_rating[\"TS%\"] >= shooting)]\n",
    "            \n",
    "    after_three_point = after_shooting.iloc[list(after_shooting[\"3PAr\"] >= three_point)]\n",
    "        \n",
    "    list_of_players = list(after_three_point[\"Player\"])\n",
    "        \n",
    "        \n",
    "    # Put players in a list and remove dups \n",
    "    a = []\n",
    "    \n",
    "    for players in list_of_players: \n",
    "        a.append(players.split(\"\\\\\")[0])\n",
    "        \n",
    "    if (a == []):\n",
    "        print(\"No players exist that match those specs!\")\n",
    "    \n",
    "    b = {a[0]}\n",
    "        \n",
    "    for i in a: \n",
    "        b.add(i)\n",
    "        \n",
    "    if (b == {}):\n",
    "        print(\"No players exist that match those specs!\")\n",
    "    else:\n",
    "        print(\"\\nThese players match those specs: \\n\")\n",
    "        print(b)"
   ]
  }
 ],
 "metadata": {
  "kernelspec": {
   "display_name": "Python 3",
   "language": "python",
   "name": "python3"
  },
  "language_info": {
   "codemirror_mode": {
    "name": "ipython",
    "version": 3
   },
   "file_extension": ".py",
   "mimetype": "text/x-python",
   "name": "python",
   "nbconvert_exporter": "python",
   "pygments_lexer": "ipython3",
   "version": "3.8.5"
  }
 },
 "nbformat": 4,
 "nbformat_minor": 4
}
