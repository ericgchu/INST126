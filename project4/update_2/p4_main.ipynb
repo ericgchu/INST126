{
 "cells": [
  {
   "cell_type": "code",
   "execution_count": 56,
   "metadata": {},
   "outputs": [
    {
     "name": "stdout",
     "output_type": "stream",
     "text": [
      "Hello, Welcome to the Functional NBA Player Database!\n",
      "Enter a number to execute an unique function; 1: Find a Player. 2: Get stats per position. 3: Retrieve a Player's stats. 4: Get Team Average: 1\n",
      "Welcome to Find A NBA Player!!!! This function will help you figure out which NBA player/s match your specification!!\n",
      "Press 1: Thorough NBA Player Search. Press 2: Custom text input nba player find1\n",
      "Welcome to Thorough NBA Player Search. You will be prompted with reqs to find your NBA player.\n",
      "Enter player position: er\n",
      "Enter minimum minutes played (as an int): 32\n",
      "Enter minimum player efficiency rating (as a float): 23\n",
      "Enter minimum true shooting percentage (as a float): 32\n",
      "Enter minimum 3 Point attempt percentage (as a float): 32\n"
     ]
    }
   ],
   "source": [
    "import pandas as pd\n",
    "\n",
    "def main():\n",
    "    \n",
    "    # Parse database file as df\n",
    "    df = pd.read_csv(\"archive/nba.csv\")\n",
    "    \n",
    "    # Greet User\n",
    "    print(\"Hello, Welcome to the Functional NBA Player Database!\")\n",
    "    \n",
    "    # Ask the user: \"Which function would you like to run?\" There are 4 options. \n",
    "    choice = int(input(\"Enter a number to execute an unique function; 1: Find a Player. 2: Get stats per position. 3: Retrieve a Player's stats. 4: Get Team Average: \"))\n",
    "    \n",
    "    # Assume valid input\n",
    "    # Depending on input, pass dataframe as parameter into chosen function\n",
    "    if (choice == 1):\n",
    "        find_a_player(df)\n",
    "    if (choice == 2):\n",
    "        get_player_position_stat(df)\n",
    "    if (choice == 3):\n",
    "        retrieve_player_stat(df)\n",
    "    if (choice == 4):\n",
    "        get_team_avg(df)\n",
    "    \n",
    "    \n",
    "main()"
   ]
  },
  {
   "cell_type": "code",
   "execution_count": null,
   "metadata": {},
   "outputs": [],
   "source": []
  }
 ],
 "metadata": {
  "kernelspec": {
   "display_name": "Python 3",
   "language": "python",
   "name": "python3"
  }
 },
 "nbformat": 4,
 "nbformat_minor": 4
}
