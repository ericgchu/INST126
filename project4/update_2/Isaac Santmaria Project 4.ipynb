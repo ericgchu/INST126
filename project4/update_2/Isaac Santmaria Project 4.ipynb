{
 "cells": [
  {
   "cell_type": "code",
   "execution_count": 7,
   "metadata": {},
   "outputs": [],
   "source": [
    "import pandas as pd\n",
    "def main():\n",
    "    df = pd.read_csv(\"nba.csv\")\n",
    "    choice = int(input(\"Input a number\"))\n",
    "    if choice == 2:\n",
    "        get_team_avg(df)\n",
    "def avg_minute_per_game(df):\n",
    "    mpg = df.groupby(\"Tm\", as_index=False).mean()\n",
    "    return mpg\n",
    "def true_shooting(df):\n",
    "    TS = df.groupby(\"Tm\", as_index=False).mean()\n",
    "    return TS\n",
    "def three_point_attempt(df):\n",
    "    three = df.groupby(\"Tm\", as_index=False).mean()\n",
    "    return three\n",
    "def get_team_avg(df):\n",
    "    m_p_g = df[[\"Tm\", \"MP\"]]\n",
    "    ts = df[[\"Tm\", \"TS%\"]]\n",
    "    par = df[[\"Tm\", \"3PAr\"]]\n",
    "    \n",
    "    \n"
   ]
  },
  {
   "cell_type": "code",
   "execution_count": 9,
   "metadata": {},
   "outputs": [],
   "source": []
  },
  {
   "cell_type": "code",
   "execution_count": null,
   "metadata": {},
   "outputs": [],
   "source": []
  }
 ],
 "metadata": {
  "kernelspec": {
   "display_name": "Python 3",
   "language": "python",
   "name": "python3"
  },
  "language_info": {
   "codemirror_mode": {
    "name": "ipython",
    "version": 3
   },
   "file_extension": ".py",
   "mimetype": "text/x-python",
   "name": "python",
   "nbconvert_exporter": "python",
   "pygments_lexer": "ipython3",
   "version": "3.8.5"
  }
 },
 "nbformat": 4,
 "nbformat_minor": 4
}
