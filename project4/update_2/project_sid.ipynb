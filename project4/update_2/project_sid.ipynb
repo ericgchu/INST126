{
 "cells": [
  {
   "cell_type": "code",
   "execution_count": 61,
   "metadata": {},
   "outputs": [],
   "source": [
    "\n",
    "def avg_minute_per_game(df):\n",
    "    avg = df.groupby('Pos', as_index=False).mean()\n",
    "    return avg\n",
    "\n",
    "def true_shooting(df):\n",
    "    ts = df.groupby('Pos', as_index=False).mean()\n",
    "    return ts\n",
    "\n",
    "def three_point_attemp(df):\n",
    "    tpa = df.groupby('Pos', as_index=False).mean()\n",
    "    return tpa\n",
    "\n",
    "def get_player_pos_stats(df):\n",
    "    avg_min = df[['Pos', 'MP']]\n",
    "    ts = df[['Pos', 'TS%']]\n",
    "    par = df[['Pos', '3PAr']]\n",
    "\n",
    "    print(\"\\n*****Here are the Player Position Stats*****\\n\")\n",
    "    \n",
    "    print(\"\\nAVERAGE MINUTE PER GAME IS:\\n\")\n",
    "    print(avg_minute_per_game(avg_min))\n",
    "\n",
    "    print(\"\\nTRUE SHOOTING AVERAGE IS:\\n\")\n",
    "    print(true_shooting(ts))\n",
    "\n",
    "    print(\"\\n3-POINT ATTEMP RATE AVERAGE IS:\\n\")\n",
    "    print(three_point_attemp(par))\n",
    "\n"
   ]
  },
  {
   "cell_type": "code",
   "execution_count": 62,
   "metadata": {},
   "outputs": [
    {
     "name": "stdout",
     "output_type": "stream",
     "text": [
      "Enter a number .....2\n",
      "\n",
      "*****Here are the Player Position Stats*****\n",
      "\n",
      "\n",
      "AVERAGE MINUTE PER GAME IS:\n",
      "\n",
      "     Pos           MP\n",
      "0      C   956.190476\n",
      "1     PF  1025.926230\n",
      "2     PG   935.478873\n",
      "3  PG-SG   422.000000\n",
      "4     SF   947.643478\n",
      "5  SF-SG   813.000000\n",
      "6     SG  1003.108974\n",
      "\n",
      "TRUE SHOOTING AVERAGE IS:\n",
      "\n",
      "     Pos       TS%\n",
      "0      C  0.574722\n",
      "1     PF  0.536975\n",
      "2     PG  0.512345\n",
      "3  PG-SG  0.539000\n",
      "4     SF  0.507496\n",
      "5  SF-SG  0.522000\n",
      "6     SG  0.515610\n",
      "\n",
      "3-POINT ATTEMP RATE AVERAGE IS:\n",
      "\n",
      "     Pos      3PAr\n",
      "0      C  0.105881\n",
      "1     PF  0.343683\n",
      "2     PG  0.339577\n",
      "3  PG-SG  0.482000\n",
      "4     SF  0.452922\n",
      "5  SF-SG  0.246000\n",
      "6     SG  0.454500\n"
     ]
    }
   ],
   "source": [
    "import pandas as pd \n",
    "\n",
    "def main():\n",
    "    \n",
    "    df = pd.read_csv(\"nba.csv\")\n",
    "    \n",
    "    choice = int(input(\"Enter a number .....\"))\n",
    "    \n",
    "    if choice == 2:\n",
    "        get_player_pos_stats(df)\n",
    "    \n",
    "\n",
    "main()"
   ]
  },
  {
   "cell_type": "code",
   "execution_count": null,
   "metadata": {},
   "outputs": [],
   "source": []
  }
 ],
 "metadata": {
  "kernelspec": {
   "display_name": "Python 3",
   "language": "python",
   "name": "python3"
  },
  "language_info": {
   "codemirror_mode": {
    "name": "ipython",
    "version": 3
   },
   "file_extension": ".py",
   "mimetype": "text/x-python",
   "name": "python",
   "nbconvert_exporter": "python",
   "pygments_lexer": "ipython3",
   "version": "3.7.3"
  }
 },
 "nbformat": 4,
 "nbformat_minor": 4
}
